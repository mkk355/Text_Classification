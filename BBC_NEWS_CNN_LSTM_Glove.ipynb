{
 "cells": [
  {
   "cell_type": "code",
   "execution_count": 1,
   "id": "c9f9e7c9",
   "metadata": {
    "ExecuteTime": {
     "end_time": "2021-06-18T09:19:30.525818Z",
     "start_time": "2021-06-18T09:19:27.952369Z"
    }
   },
   "outputs": [
    {
     "name": "stdout",
     "output_type": "stream",
     "text": [
      "2.3.0\n"
     ]
    }
   ],
   "source": [
    "import tensorflow as tf\n",
    "print(tf.__version__)"
   ]
  },
  {
   "cell_type": "code",
   "execution_count": 18,
   "id": "4a4c1a91",
   "metadata": {
    "ExecuteTime": {
     "end_time": "2021-06-18T09:23:13.398752Z",
     "start_time": "2021-06-18T09:23:13.392769Z"
    }
   },
   "outputs": [],
   "source": [
    "import csv\n",
    "import tensorflow as tf\n",
    "import numpy as np\n",
    "from tensorflow.keras.preprocessing.text import Tokenizer\n",
    "from tensorflow.keras.preprocessing.sequence import pad_sequences\n",
    "from nltk.corpus import stopwords\n",
    "STOPWORDS = set(stopwords.words('english'))\n",
    "from matplotlib import pyplot as plt"
   ]
  },
  {
   "cell_type": "code",
   "execution_count": 59,
   "id": "ddf54921",
   "metadata": {
    "ExecuteTime": {
     "end_time": "2021-06-18T09:51:29.210612Z",
     "start_time": "2021-06-18T09:51:29.204636Z"
    }
   },
   "outputs": [],
   "source": [
    "## Defining Parameter for Models\n",
    "# vocab_size = 5000\n",
    "embedding_dim = 100\n",
    "max_length = 200\n",
    "trunc_type = 'post'\n",
    "padding_type = 'post'\n",
    "oov_tok = '<OOV>'\n",
    "training_portion = .8"
   ]
  },
  {
   "cell_type": "code",
   "execution_count": 60,
   "id": "f36764be",
   "metadata": {
    "ExecuteTime": {
     "end_time": "2021-06-18T09:51:31.203479Z",
     "start_time": "2021-06-18T09:51:30.007083Z"
    }
   },
   "outputs": [
    {
     "name": "stdout",
     "output_type": "stream",
     "text": [
      "2225\n",
      "2225\n"
     ]
    }
   ],
   "source": [
    "articles = []\n",
    "labels = []\n",
    "\n",
    "with open(\"bbc-text.csv\", 'r') as csvfile:\n",
    "    reader = csv.reader(csvfile, delimiter=',')\n",
    "    next(reader)\n",
    "    for row in reader:\n",
    "        labels.append(row[0])\n",
    "        article = row[1]\n",
    "        for word in STOPWORDS:\n",
    "            token = ' ' + word + ' '\n",
    "            article = article.replace(token, ' ')\n",
    "            article = article.replace(' ', ' ')\n",
    "        articles.append(article)\n",
    "print(len(labels))\n",
    "print(len(articles))"
   ]
  },
  {
   "cell_type": "code",
   "execution_count": 61,
   "id": "eb7a5fe5",
   "metadata": {
    "ExecuteTime": {
     "end_time": "2021-06-18T09:51:31.934920Z",
     "start_time": "2021-06-18T09:51:31.205467Z"
    }
   },
   "outputs": [],
   "source": [
    "tokenizer = Tokenizer()\n",
    "tokenizer.fit_on_texts(articles)\n",
    "\n",
    "word_index = tokenizer.word_index\n",
    "vocab_size=len(word_index)\n",
    "\n",
    "sequences = tokenizer.texts_to_sequences(articles)\n",
    "padded = pad_sequences(sequences, maxlen=max_length, padding=padding_type, truncating=trunc_type)\n",
    "\n",
    "train_size = int(len(articles) * training_portion)\n",
    "training_sequences = padded[0:train_size]\n",
    "train_labels = labels[0:train_size]\n",
    "\n",
    "validation_sequences = padded[train_size:]\n",
    "validation_labels = labels[train_size:]\n",
    "\n",
    "label_tokenizer = Tokenizer()\n",
    "label_tokenizer.fit_on_texts(labels)\n",
    "\n",
    "training_label_seq = np.array(label_tokenizer.texts_to_sequences(train_labels))\n",
    "validation_label_seq = np.array(label_tokenizer.texts_to_sequences(validation_labels))"
   ]
  },
  {
   "cell_type": "code",
   "execution_count": 62,
   "id": "ea6eacaf",
   "metadata": {
    "ExecuteTime": {
     "end_time": "2021-06-18T09:51:33.086989Z",
     "start_time": "2021-06-18T09:51:33.082003Z"
    }
   },
   "outputs": [
    {
     "name": "stdout",
     "output_type": "stream",
     "text": [
      "(1780, 200)\n",
      "(445, 200)\n",
      "(1780, 1)\n",
      "(445, 1)\n"
     ]
    }
   ],
   "source": [
    "print(training_sequences.shape)\n",
    "print(validation_sequences.shape)\n",
    "print(training_label_seq.shape)\n",
    "print(validation_label_seq.shape)"
   ]
  },
  {
   "cell_type": "code",
   "execution_count": 94,
   "id": "e99db31b",
   "metadata": {
    "ExecuteTime": {
     "end_time": "2021-06-18T10:51:08.245810Z",
     "start_time": "2021-06-18T10:51:08.232847Z"
    }
   },
   "outputs": [
    {
     "name": "stdout",
     "output_type": "stream",
     "text": [
      "29698\n",
      "5519\n"
     ]
    }
   ],
   "source": [
    "print(vocab_size)\n",
    "print(word_index['i'])"
   ]
  },
  {
   "cell_type": "markdown",
   "id": "c05f0cf9",
   "metadata": {},
   "source": [
    "#### First, we need to load the entire GloVe word embedding file into memory as a dictionary of word to embedding array. Next, we need to create a matrix of one embedding for each word in the training dataset."
   ]
  },
  {
   "cell_type": "code",
   "execution_count": 65,
   "id": "fc3d1a07",
   "metadata": {
    "ExecuteTime": {
     "end_time": "2021-06-18T09:52:32.832729Z",
     "start_time": "2021-06-18T09:52:22.477208Z"
    },
    "scrolled": true
   },
   "outputs": [],
   "source": [
    "# embeddings_index = {};\n",
    "# with open('glove/glove.6B.100d.txt', \"rb\") as f:\n",
    "#     for line in f:\n",
    "#         values = line.split();\n",
    "#         word = values[0];\n",
    "#         coefs = np.asarray(values[1:], dtype='float32')\n",
    "#         embeddings_index[word] = coefs;\n",
    "\n",
    "# embeddings_matrix = np.zeros((vocab_size+1, embedding_dim))\n",
    "# for word, i in word_index.items():\n",
    "#     embedding_vector = embeddings_index.get(word)\n",
    "#     if embedding_vector is not None:\n",
    "#         embeddings_matrix[i] = embedding_vector"
   ]
  },
  {
   "cell_type": "code",
   "execution_count": 89,
   "metadata": {
    "ExecuteTime": {
     "end_time": "2021-06-18T10:49:57.318527Z",
     "start_time": "2021-06-18T10:49:46.209817Z"
    }
   },
   "outputs": [
    {
     "name": "stdout",
     "output_type": "stream",
     "text": [
      "Found 400000 word vectors.\n"
     ]
    }
   ],
   "source": [
    "embeddings_index = {}\n",
    "f = open('glove/glove.6B.100d.txt', encoding = \"utf-8\")\n",
    "for line in f:\n",
    "    values = line.split()\n",
    "    word = values[0]\n",
    "    coefs = np.asarray(values[1:], dtype='float32')\n",
    "    embeddings_index[word] = coefs\n",
    "f.close()\n",
    "\n",
    "print('Found %s word vectors.' % len(embeddings_index))"
   ]
  },
  {
   "cell_type": "code",
   "execution_count": 81,
   "metadata": {
    "ExecuteTime": {
     "end_time": "2021-06-18T10:34:58.695625Z",
     "start_time": "2021-06-18T10:34:58.662704Z"
    }
   },
   "outputs": [],
   "source": [
    "embedding_matrix = np.zeros((len(word_index) + 1, embedding_dim))\n",
    "for word, i in word_index.items():\n",
    "    embedding_vector = embeddings_index.get(word)\n",
    "    if embedding_vector is not None:\n",
    "        # words not found in embedding index will be all-zeros.\n",
    "        embedding_matrix[i] = embedding_vector"
   ]
  },
  {
   "cell_type": "code",
   "execution_count": 95,
   "id": "53286ada",
   "metadata": {
    "ExecuteTime": {
     "end_time": "2021-06-18T10:51:21.631209Z",
     "start_time": "2021-06-18T10:51:21.622264Z"
    }
   },
   "outputs": [],
   "source": [
    "# print(len(embeddings_matrix))"
   ]
  },
  {
   "cell_type": "markdown",
   "id": "a3482c4b",
   "metadata": {},
   "source": [
    "#### Now we can define our model, fit, and evaluate it as before.\n",
    "\n",
    "#### The key difference is that the embedding layer can be seeded with the GloVe word embedding weights.\n",
    "\n",
    "##### We do not want to update the learned word weights in this model, therefore we will set the trainable attribute for the model to be False."
   ]
  },
  {
   "cell_type": "code",
   "execution_count": 102,
   "id": "d9e3c692",
   "metadata": {
    "ExecuteTime": {
     "end_time": "2021-06-18T11:17:08.740919Z",
     "start_time": "2021-06-18T11:17:08.414003Z"
    }
   },
   "outputs": [
    {
     "name": "stdout",
     "output_type": "stream",
     "text": [
      "Model: \"sequential_17\"\n",
      "_________________________________________________________________\n",
      "Layer (type)                 Output Shape              Param #   \n",
      "=================================================================\n",
      "embedding_17 (Embedding)     (None, 200, 100)          2969900   \n",
      "_________________________________________________________________\n",
      "dropout_17 (Dropout)         (None, 200, 100)          0         \n",
      "_________________________________________________________________\n",
      "conv1d_17 (Conv1D)           (None, 196, 64)           32064     \n",
      "_________________________________________________________________\n",
      "max_pooling1d_17 (MaxPooling (None, 32, 64)            0         \n",
      "_________________________________________________________________\n",
      "lstm_17 (LSTM)               (None, 64)                33024     \n",
      "_________________________________________________________________\n",
      "dense_17 (Dense)             (None, 6)                 390       \n",
      "=================================================================\n",
      "Total params: 3,035,378\n",
      "Trainable params: 65,478\n",
      "Non-trainable params: 2,969,900\n",
      "_________________________________________________________________\n"
     ]
    }
   ],
   "source": [
    "model = tf.keras.Sequential([\n",
    "    tf.keras.layers.Embedding(len(word_index) + 1, embedding_dim, input_length=max_length, weights=[embeddings_matrix], trainable=False),\n",
    "    tf.keras.layers.Dropout(0.2),\n",
    "    tf.keras.layers.Conv1D(64, 5, activation='relu'),\n",
    "    tf.keras.layers.MaxPooling1D(pool_size=6),\n",
    "    tf.keras.layers.LSTM(64),\n",
    "    tf.keras.layers.Dense(6, activation='softmax')\n",
    "])\n",
    "model.compile(loss='sparse_categorical_crossentropy',optimizer='rmsprop',metrics=['accuracy'])\n",
    "model.summary()"
   ]
  },
  {
   "cell_type": "code",
   "execution_count": 103,
   "id": "d54f7a63",
   "metadata": {
    "ExecuteTime": {
     "end_time": "2021-06-18T11:17:27.473040Z",
     "start_time": "2021-06-18T11:17:09.502409Z"
    }
   },
   "outputs": [
    {
     "name": "stdout",
     "output_type": "stream",
     "text": [
      "Epoch 1/10\n",
      "56/56 - 2s - loss: 1.6522 - accuracy: 0.2039 - val_loss: 1.6178 - val_accuracy: 0.1483\n",
      "Epoch 2/10\n",
      "56/56 - 2s - loss: 1.6121 - accuracy: 0.2275 - val_loss: 1.6116 - val_accuracy: 0.2270\n",
      "Epoch 3/10\n",
      "56/56 - 2s - loss: 1.6136 - accuracy: 0.2320 - val_loss: 1.5982 - val_accuracy: 0.2270\n",
      "Epoch 4/10\n",
      "56/56 - 2s - loss: 1.6110 - accuracy: 0.2331 - val_loss: 1.6127 - val_accuracy: 0.2270\n",
      "Epoch 5/10\n",
      "56/56 - 2s - loss: 1.6088 - accuracy: 0.2169 - val_loss: 1.6109 - val_accuracy: 0.2382\n",
      "Epoch 6/10\n",
      "56/56 - 2s - loss: 1.6092 - accuracy: 0.2326 - val_loss: 1.6053 - val_accuracy: 0.2382\n",
      "Epoch 7/10\n",
      "56/56 - 2s - loss: 1.6094 - accuracy: 0.2303 - val_loss: 1.6054 - val_accuracy: 0.2270\n",
      "Epoch 8/10\n",
      "56/56 - 1s - loss: 1.6088 - accuracy: 0.2174 - val_loss: 1.6030 - val_accuracy: 0.2270\n",
      "Epoch 9/10\n",
      "56/56 - 1s - loss: 1.6085 - accuracy: 0.2287 - val_loss: 1.6011 - val_accuracy: 0.2270\n",
      "Epoch 10/10\n",
      "56/56 - 2s - loss: 1.6081 - accuracy: 0.2140 - val_loss: 1.6007 - val_accuracy: 0.2382\n"
     ]
    }
   ],
   "source": [
    "num_epochs = 10\n",
    "history = model.fit(training_sequences, training_label_seq, epochs=num_epochs, validation_data=(validation_sequences, validation_label_seq), verbose=2)"
   ]
  },
  {
   "cell_type": "code",
   "execution_count": 87,
   "id": "540690e5",
   "metadata": {
    "ExecuteTime": {
     "end_time": "2021-06-18T10:46:27.042609Z",
     "start_time": "2021-06-18T10:46:26.711476Z"
    }
   },
   "outputs": [
    {
     "data": {
      "image/png": "[encoded data removed]",
      "text/plain": [
       "<Figure size 432x288 with 1 Axes>"
      ]
     },
     "metadata": {
      "needs_background": "light"
     },
     "output_type": "display_data"
    },
    {
     "data": {
      "image/png": "[encoded data removed]",
      "text/plain": [
       "<Figure size 432x288 with 1 Axes>"
      ]
     },
     "metadata": {
      "needs_background": "light"
     },
     "output_type": "display_data"
    }
   ],
   "source": [
    "def plot_graphs(history, string):\n",
    "  plt.plot(history.history[string])\n",
    "  plt.plot(history.history['val_'+string])\n",
    "  plt.xlabel(\"Epochs\")\n",
    "  plt.ylabel(string)\n",
    "  plt.legend([string, 'val_'+string])\n",
    "  plt.show()\n",
    "  \n",
    "plot_graphs(history, \"accuracy\")\n",
    "plot_graphs(history, \"loss\");"
   ]
  },
  {
   "cell_type": "code",
   "execution_count": null,
   "metadata": {},
   "outputs": [],
   "source": []
  }
 ],
 "metadata": {
  "kernelspec": {
   "display_name": "Python 3",
   "language": "python",
   "name": "python3"
  },
  "language_info": {
   "codemirror_mode": {
    "name": "ipython",
    "version": 3
   },
   "file_extension": ".py",
   "mimetype": "text/x-python",
   "name": "python",
   "nbconvert_exporter": "python",
   "pygments_lexer": "ipython3",
   "version": "3.7.9"
  }
 },
 "nbformat": 4,
 "nbformat_minor": 5
}
