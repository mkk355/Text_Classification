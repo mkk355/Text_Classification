{
 "cells": [
  {
   "cell_type": "code",
   "execution_count": 1,
   "id": "4a4ceedd",
   "metadata": {
    "ExecuteTime": {
     "end_time": "2021-06-18T09:20:20.771646Z",
     "start_time": "2021-06-18T09:20:18.637358Z"
    }
   },
   "outputs": [
    {
     "name": "stdout",
     "output_type": "stream",
     "text": [
      "2.3.0\n"
     ]
    }
   ],
   "source": [
    "import tensorflow as tf\n",
    "print(tf.__version__)"
   ]
  },
  {
   "cell_type": "code",
   "execution_count": 2,
   "id": "f8b17e64",
   "metadata": {
    "ExecuteTime": {
     "end_time": "2021-06-18T09:20:21.545296Z",
     "start_time": "2021-06-18T09:20:20.772648Z"
    }
   },
   "outputs": [],
   "source": [
    "import csv\n",
    "import tensorflow as tf\n",
    "import numpy as np\n",
    "from tensorflow.keras.preprocessing.text import Tokenizer\n",
    "from tensorflow.keras.preprocessing.sequence import pad_sequences\n",
    "from nltk.corpus import stopwords\n",
    "STOPWORDS = set(stopwords.words('english'))\n",
    "from matplotlib import pyplot as plt"
   ]
  },
  {
   "cell_type": "code",
   "execution_count": 3,
   "id": "64535d62",
   "metadata": {
    "ExecuteTime": {
     "end_time": "2021-06-18T09:20:21.561281Z",
     "start_time": "2021-06-18T09:20:21.547329Z"
    }
   },
   "outputs": [],
   "source": [
    "## Defining Parameter for Models\n",
    "vocab_size = 5000\n",
    "embedding_dim = 64\n",
    "max_length = 200\n",
    "trunc_type = 'post'\n",
    "padding_type = 'post'\n",
    "oov_tok = '<OOV>'\n",
    "training_portion = .8"
   ]
  },
  {
   "cell_type": "code",
   "execution_count": 4,
   "id": "d168398f",
   "metadata": {
    "ExecuteTime": {
     "end_time": "2021-06-18T09:20:22.889871Z",
     "start_time": "2021-06-18T09:20:21.563248Z"
    }
   },
   "outputs": [
    {
     "name": "stdout",
     "output_type": "stream",
     "text": [
      "2225\n",
      "2225\n"
     ]
    }
   ],
   "source": [
    "articles = []\n",
    "labels = []\n",
    "\n",
    "with open(\"bbc-text.csv\", 'r') as csvfile:\n",
    "    reader = csv.reader(csvfile, delimiter=',')\n",
    "    next(reader)\n",
    "    for row in reader:\n",
    "        labels.append(row[0])\n",
    "        article = row[1]\n",
    "        for word in STOPWORDS:\n",
    "            token = ' ' + word + ' '\n",
    "            article = article.replace(token, ' ')\n",
    "            article = article.replace(' ', ' ')\n",
    "        articles.append(article)\n",
    "print(len(labels))\n",
    "print(len(articles))"
   ]
  },
  {
   "cell_type": "code",
   "execution_count": 5,
   "id": "ae5c5e28",
   "metadata": {
    "ExecuteTime": {
     "end_time": "2021-06-18T09:20:22.905377Z",
     "start_time": "2021-06-18T09:20:22.891822Z"
    }
   },
   "outputs": [
    {
     "name": "stdout",
     "output_type": "stream",
     "text": [
      "1780\n",
      "1780\n",
      "1780\n",
      "445\n",
      "445\n"
     ]
    }
   ],
   "source": [
    "train_size = int(len(articles) * training_portion)\n",
    "\n",
    "train_articles = articles[0: train_size]\n",
    "train_labels = labels[0: train_size]\n",
    "\n",
    "validation_articles = articles[train_size:]\n",
    "validation_labels = labels[train_size:]\n",
    "\n",
    "print(train_size)\n",
    "print(len(train_articles))\n",
    "print(len(train_labels))\n",
    "print(len(validation_articles))\n",
    "print(len(validation_labels))"
   ]
  },
  {
   "cell_type": "code",
   "execution_count": 6,
   "id": "57828e5a",
   "metadata": {
    "ExecuteTime": {
     "end_time": "2021-06-18T09:20:23.479843Z",
     "start_time": "2021-06-18T09:20:22.906379Z"
    }
   },
   "outputs": [
    {
     "name": "stdout",
     "output_type": "stream",
     "text": [
      "425\n",
      "200\n",
      "192\n",
      "200\n",
      "186\n",
      "200\n"
     ]
    }
   ],
   "source": [
    "tokenizer = Tokenizer(num_words = vocab_size, oov_token=oov_tok)\n",
    "tokenizer.fit_on_texts(train_articles)\n",
    "word_index = tokenizer.word_index\n",
    "\n",
    "train_sequences = tokenizer.texts_to_sequences(train_articles)\n",
    "train_padded = pad_sequences(train_sequences, maxlen=max_length, padding=padding_type, truncating=trunc_type)\n",
    "\n",
    "print(len(train_sequences[0]))\n",
    "print(len(train_padded[0]))\n",
    "\n",
    "print(len(train_sequences[1]))\n",
    "print(len(train_padded[1]))\n",
    "\n",
    "print(len(train_sequences[10]))\n",
    "print(len(train_padded[10]))"
   ]
  },
  {
   "cell_type": "code",
   "execution_count": 7,
   "id": "46288039",
   "metadata": {
    "ExecuteTime": {
     "end_time": "2021-06-18T09:20:23.559630Z",
     "start_time": "2021-06-18T09:20:23.480840Z"
    }
   },
   "outputs": [
    {
     "name": "stdout",
     "output_type": "stream",
     "text": [
      "445\n",
      "(445, 200)\n"
     ]
    }
   ],
   "source": [
    "validation_sequences = tokenizer.texts_to_sequences(validation_articles)\n",
    "validation_padded = pad_sequences(validation_sequences, maxlen=max_length, padding=padding_type, truncating=trunc_type)\n",
    "\n",
    "print(len(validation_sequences))\n",
    "print(validation_padded.shape)\n"
   ]
  },
  {
   "cell_type": "code",
   "execution_count": 8,
   "id": "3cb9e4eb",
   "metadata": {
    "ExecuteTime": {
     "end_time": "2021-06-18T09:20:23.655374Z",
     "start_time": "2021-06-18T09:20:23.562622Z"
    }
   },
   "outputs": [],
   "source": [
    "label_tokenizer = Tokenizer()\n",
    "label_tokenizer.fit_on_texts(labels)\n",
    "\n",
    "training_label_seq = np.array(label_tokenizer.texts_to_sequences(train_labels))\n",
    "validation_label_seq = np.array(label_tokenizer.texts_to_sequences(validation_labels))"
   ]
  },
  {
   "cell_type": "markdown",
   "id": "756d6fcc",
   "metadata": {},
   "source": [
    "## Adding CNN architecture"
   ]
  },
  {
   "cell_type": "code",
   "execution_count": 9,
   "id": "82aa00a5",
   "metadata": {
    "ExecuteTime": {
     "end_time": "2021-06-18T09:20:23.750119Z",
     "start_time": "2021-06-18T09:20:23.658368Z"
    }
   },
   "outputs": [
    {
     "name": "stdout",
     "output_type": "stream",
     "text": [
      "Model: \"sequential\"\n",
      "_________________________________________________________________\n",
      "Layer (type)                 Output Shape              Param #   \n",
      "=================================================================\n",
      "embedding (Embedding)        (None, 200, 64)           320000    \n",
      "_________________________________________________________________\n",
      "conv1d (Conv1D)              (None, 196, 128)          41088     \n",
      "_________________________________________________________________\n",
      "global_average_pooling1d (Gl (None, 128)               0         \n",
      "_________________________________________________________________\n",
      "dense (Dense)                (None, 64)                8256      \n",
      "_________________________________________________________________\n",
      "dense_1 (Dense)              (None, 6)                 390       \n",
      "=================================================================\n",
      "Total params: 369,734\n",
      "Trainable params: 369,734\n",
      "Non-trainable params: 0\n",
      "_________________________________________________________________\n"
     ]
    }
   ],
   "source": [
    "model = tf.keras.Sequential([\n",
    "    tf.keras.layers.Embedding(vocab_size, embedding_dim,\n",
    "                             input_length=max_length),\n",
    "    # specify the number of convolutions that you want to learn, their size, and their activation function.\n",
    "    # words will be grouped into the size of the filter in this case 5\n",
    "    tf.keras.layers.Conv1D(128, 5, activation='relu'),\n",
    "    tf.keras.layers.GlobalAveragePooling1D(),\n",
    "    tf.keras.layers.Dense(64, activation='relu'),\n",
    "    tf.keras.layers.Dense(6, activation='softmax')\n",
    "])\n",
    "model.summary()"
   ]
  },
  {
   "cell_type": "markdown",
   "id": "26a7b840",
   "metadata": {},
   "source": [
    "#### When we look at the summary of the model, the size of the input was 200 words, and a filter that is 5 words long will shave off 2 words from the front and back, leaving us with 196. The 128 filters that we specified will show up here as part of the convolutional layer."
   ]
  },
  {
   "cell_type": "code",
   "execution_count": 10,
   "id": "b889e2d4",
   "metadata": {
    "ExecuteTime": {
     "end_time": "2021-06-18T09:20:23.766078Z",
     "start_time": "2021-06-18T09:20:23.751117Z"
    }
   },
   "outputs": [],
   "source": [
    "model.compile(loss='sparse_categorical_crossentropy', optimizer='adam', metrics=['accuracy'])\n",
    "\n",
    "##Use sparse categorical crossentropy when your classes are mutually exclusive (e.g. when each sample belongs exactly to one class) \n",
    "##and categorical crossentropy when one sample can have multiple classes or labels are soft probabilities (like [0.5, 0.3, 0.2])."
   ]
  },
  {
   "cell_type": "code",
   "execution_count": 11,
   "id": "dee05c75",
   "metadata": {
    "ExecuteTime": {
     "end_time": "2021-06-18T09:20:47.686364Z",
     "start_time": "2021-06-18T09:20:23.768072Z"
    }
   },
   "outputs": [
    {
     "name": "stdout",
     "output_type": "stream",
     "text": [
      "Epoch 1/20\n",
      "56/56 - 1s - loss: 1.5794 - accuracy: 0.3404 - val_loss: 1.1857 - val_accuracy: 0.6674\n",
      "Epoch 2/20\n",
      "56/56 - 1s - loss: 0.5578 - accuracy: 0.9006 - val_loss: 0.2212 - val_accuracy: 0.9573\n",
      "Epoch 3/20\n",
      "56/56 - 1s - loss: 0.0766 - accuracy: 0.9876 - val_loss: 0.1201 - val_accuracy: 0.9730\n",
      "Epoch 4/20\n",
      "56/56 - 1s - loss: 0.0232 - accuracy: 0.9983 - val_loss: 0.1035 - val_accuracy: 0.9753\n",
      "Epoch 5/20\n",
      "56/56 - 1s - loss: 0.0094 - accuracy: 1.0000 - val_loss: 0.1024 - val_accuracy: 0.9753\n",
      "Epoch 6/20\n",
      "56/56 - 1s - loss: 0.0050 - accuracy: 1.0000 - val_loss: 0.0986 - val_accuracy: 0.9753\n",
      "Epoch 7/20\n",
      "56/56 - 1s - loss: 0.0033 - accuracy: 1.0000 - val_loss: 0.0957 - val_accuracy: 0.9775\n",
      "Epoch 8/20\n",
      "56/56 - 1s - loss: 0.0023 - accuracy: 1.0000 - val_loss: 0.0956 - val_accuracy: 0.9775\n",
      "Epoch 9/20\n",
      "56/56 - 1s - loss: 0.0018 - accuracy: 1.0000 - val_loss: 0.0981 - val_accuracy: 0.9753\n",
      "Epoch 10/20\n",
      "56/56 - 1s - loss: 0.0014 - accuracy: 1.0000 - val_loss: 0.0962 - val_accuracy: 0.9775\n",
      "Epoch 11/20\n",
      "56/56 - 1s - loss: 0.0011 - accuracy: 1.0000 - val_loss: 0.0959 - val_accuracy: 0.9775\n",
      "Epoch 12/20\n",
      "56/56 - 1s - loss: 8.9599e-04 - accuracy: 1.0000 - val_loss: 0.0970 - val_accuracy: 0.9775\n",
      "Epoch 13/20\n",
      "56/56 - 1s - loss: 7.4680e-04 - accuracy: 1.0000 - val_loss: 0.0991 - val_accuracy: 0.9753\n",
      "Epoch 14/20\n",
      "56/56 - 1s - loss: 6.3815e-04 - accuracy: 1.0000 - val_loss: 0.0978 - val_accuracy: 0.9753\n",
      "Epoch 15/20\n",
      "56/56 - 1s - loss: 5.4656e-04 - accuracy: 1.0000 - val_loss: 0.0987 - val_accuracy: 0.9753\n",
      "Epoch 16/20\n",
      "56/56 - 1s - loss: 4.7329e-04 - accuracy: 1.0000 - val_loss: 0.0986 - val_accuracy: 0.9753\n",
      "Epoch 17/20\n",
      "56/56 - 1s - loss: 4.1375e-04 - accuracy: 1.0000 - val_loss: 0.1001 - val_accuracy: 0.9753\n",
      "Epoch 18/20\n",
      "56/56 - 1s - loss: 3.6459e-04 - accuracy: 1.0000 - val_loss: 0.1008 - val_accuracy: 0.9753\n",
      "Epoch 19/20\n",
      "56/56 - 1s - loss: 3.2410e-04 - accuracy: 1.0000 - val_loss: 0.1009 - val_accuracy: 0.9753\n",
      "Epoch 20/20\n",
      "56/56 - 1s - loss: 2.8878e-04 - accuracy: 1.0000 - val_loss: 0.1015 - val_accuracy: 0.9753\n"
     ]
    }
   ],
   "source": [
    "num_epochs = 20\n",
    "history = model.fit(train_padded, training_label_seq, epochs=num_epochs, validation_data=(validation_padded, validation_label_seq), verbose=2)"
   ]
  },
  {
   "cell_type": "code",
   "execution_count": 12,
   "id": "5eb01c58",
   "metadata": {
    "ExecuteTime": {
     "end_time": "2021-06-18T09:20:47.969874Z",
     "start_time": "2021-06-18T09:20:47.687363Z"
    }
   },
   "outputs": [
    {
     "data": {
      "image/png": "[encoded data removed]",
      "text/plain": [
       "<Figure size 432x288 with 1 Axes>"
      ]
     },
     "metadata": {
      "needs_background": "light"
     },
     "output_type": "display_data"
    },
    {
     "data": {
      "image/png": "[encoded data removed]",
      "text/plain": [
       "<Figure size 432x288 with 1 Axes>"
      ]
     },
     "metadata": {
      "needs_background": "light"
     },
     "output_type": "display_data"
    }
   ],
   "source": [
    "def plot_graphs(history, string):\n",
    "    plt.plot(history.history[string])\n",
    "    plt.plot(history.history['val_'+string])\n",
    "    plt.xlabel(\"Epochs\")\n",
    "    plt.ylabel(string)\n",
    "    plt.legend([string, 'val_'+string])\n",
    "    plt.show()\n",
    "    \n",
    "plot_graphs(history, \"accuracy\")\n",
    "plot_graphs(history, \"loss\")"
   ]
  },
  {
   "cell_type": "code",
   "execution_count": 13,
   "id": "1b6c5b3f",
   "metadata": {
    "ExecuteTime": {
     "end_time": "2021-06-18T09:20:48.080662Z",
     "start_time": "2021-06-18T09:20:47.970871Z"
    }
   },
   "outputs": [
    {
     "name": "stdout",
     "output_type": "stream",
     "text": [
      "[[2.7006045e-06 9.1824329e-01 6.0288373e-02 7.7251638e-03 3.3148287e-06\n",
      "  1.3737167e-02]] bussiness\n"
     ]
    }
   ],
   "source": [
    "## Lets Experiment\n",
    "txt = [\"A WeWork shareholder has taken the company to court over the near-$1.7bn (£1.3bn) leaving package approved for ousted co-founder Adam Neumann.\"]\n",
    "seq = tokenizer.texts_to_sequences(txt)\n",
    "padded = pad_sequences(seq, maxlen=max_length)\n",
    "pred = model.predict(padded)\n",
    "labels = ['sport', 'bussiness', 'politics', 'tech', 'entertainment']\n",
    "print(pred, labels[np.argmax(pred)])"
   ]
  },
  {
   "cell_type": "markdown",
   "id": "271799c1",
   "metadata": {},
   "source": [
    "### Further Reading At https://machinelearningmastery.com/best-practices-document-classification-deep-learning/"
   ]
  },
  {
   "cell_type": "code",
   "execution_count": null,
   "id": "6c36f219",
   "metadata": {},
   "outputs": [],
   "source": []
  }
 ],
 "metadata": {
  "kernelspec": {
   "display_name": "Python 3",
   "language": "python",
   "name": "python3"
  },
  "language_info": {
   "codemirror_mode": {
    "name": "ipython",
    "version": 3
   },
   "file_extension": ".py",
   "mimetype": "text/x-python",
   "name": "python",
   "nbconvert_exporter": "python",
   "pygments_lexer": "ipython3",
   "version": "3.7.9"
  }
 },
 "nbformat": 4,
 "nbformat_minor": 5
}
