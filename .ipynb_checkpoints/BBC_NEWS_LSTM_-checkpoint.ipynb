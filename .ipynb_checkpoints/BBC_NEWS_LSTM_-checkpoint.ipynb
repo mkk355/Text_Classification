{
 "cells": [
  {
   "cell_type": "code",
   "execution_count": 1,
   "metadata": {
    "ExecuteTime": {
     "end_time": "2021-06-18T13:02:39.894234Z",
     "start_time": "2021-06-18T13:02:37.002377Z"
    }
   },
   "outputs": [
    {
     "name": "stdout",
     "output_type": "stream",
     "text": [
      "2.3.0\n"
     ]
    }
   ],
   "source": [
    "import tensorflow as tf\n",
    "print(tf.__version__)"
   ]
  },
  {
   "cell_type": "code",
   "execution_count": 27,
   "metadata": {
    "ExecuteTime": {
     "end_time": "2021-06-18T13:18:11.373935Z",
     "start_time": "2021-06-18T13:18:11.088843Z"
    }
   },
   "outputs": [],
   "source": [
    "import csv\n",
    "import tensorflow as tf\n",
    "import numpy as np\n",
    "from matplotlib import pyplot as plt\n",
    "from tensorflow.keras.preprocessing.text import Tokenizer\n",
    "from tensorflow.keras.preprocessing.sequence import pad_sequences\n",
    "from nltk.corpus import stopwords\n",
    "STOPWORDS = set(stopwords.words('english'))"
   ]
  },
  {
   "cell_type": "code",
   "execution_count": 3,
   "metadata": {
    "ExecuteTime": {
     "end_time": "2021-06-18T13:03:49.777457Z",
     "start_time": "2021-06-18T13:03:49.771471Z"
    }
   },
   "outputs": [],
   "source": [
    "vocab_size = 5000\n",
    "embedding_dim = 64\n",
    "max_length = 200\n",
    "trunc_type = 'post'\n",
    "padding_type = 'post'\n",
    "oov_tok = '<OOV>'\n",
    "training_portion = .8"
   ]
  },
  {
   "cell_type": "code",
   "execution_count": 4,
   "metadata": {
    "ExecuteTime": {
     "end_time": "2021-06-18T13:04:04.741829Z",
     "start_time": "2021-06-18T13:04:03.507096Z"
    }
   },
   "outputs": [
    {
     "name": "stdout",
     "output_type": "stream",
     "text": [
      "2225\n",
      "2225\n"
     ]
    }
   ],
   "source": [
    "articles = []\n",
    "labels = []\n",
    "\n",
    "with open(\"bbc-text.csv\", 'r') as csvfile:\n",
    "    reader = csv.reader(csvfile, delimiter=',')\n",
    "    next(reader)\n",
    "    for row in reader:\n",
    "        labels.append(row[0])\n",
    "        article = row[1]\n",
    "        for word in STOPWORDS:\n",
    "            token = ' ' + word + ' '\n",
    "            article = article.replace(token, ' ')\n",
    "            article = article.replace(' ', ' ')\n",
    "        articles.append(article)\n",
    "print(len(labels))\n",
    "print(len(articles))"
   ]
  },
  {
   "cell_type": "code",
   "execution_count": 5,
   "metadata": {
    "ExecuteTime": {
     "end_time": "2021-06-18T13:04:16.684560Z",
     "start_time": "2021-06-18T13:04:16.675616Z"
    }
   },
   "outputs": [
    {
     "name": "stdout",
     "output_type": "stream",
     "text": [
      "1780\n",
      "1780\n",
      "1780\n",
      "445\n",
      "445\n"
     ]
    }
   ],
   "source": [
    "train_size = int(len(articles) * training_portion)\n",
    "\n",
    "train_articles = articles[0: train_size]\n",
    "train_labels = labels[0: train_size]\n",
    "\n",
    "validation_articles = articles[train_size:]\n",
    "validation_labels = labels[train_size:]\n",
    "\n",
    "print(train_size)\n",
    "print(len(train_articles))\n",
    "print(len(train_labels))\n",
    "print(len(validation_articles))\n",
    "print(len(validation_labels))"
   ]
  },
  {
   "cell_type": "markdown",
   "metadata": {},
   "source": [
    "#### Tokenizer does all the heavy lifting for us. In our articles that it was tokenizing, it will take 5,000 most common words. oov_token is to put a special value in when an unseen word is encountered. This means I want \"OOV\" in bracket to be used to for words that are not in the word index. \"fit_on_text\" will go through all the text and create dictionary like this:"
   ]
  },
  {
   "cell_type": "code",
   "execution_count": 6,
   "metadata": {
    "ExecuteTime": {
     "end_time": "2021-06-18T13:05:00.917074Z",
     "start_time": "2021-06-18T13:05:00.594920Z"
    }
   },
   "outputs": [],
   "source": [
    "tokenizer = Tokenizer(num_words = vocab_size, oov_token=oov_tok)\n",
    "tokenizer.fit_on_texts(train_articles)\n",
    "word_index = tokenizer.word_index"
   ]
  },
  {
   "cell_type": "code",
   "execution_count": 7,
   "metadata": {
    "ExecuteTime": {
     "end_time": "2021-06-18T13:05:20.357951Z",
     "start_time": "2021-06-18T13:05:20.338039Z"
    }
   },
   "outputs": [
    {
     "data": {
      "text/plain": [
       "{'<OOV>': 1,\n",
       " 'said': 2,\n",
       " 'mr': 3,\n",
       " 'would': 4,\n",
       " 'year': 5,\n",
       " 'also': 6,\n",
       " 'people': 7,\n",
       " 'new': 8,\n",
       " 'us': 9,\n",
       " 'one': 10}"
      ]
     },
     "execution_count": 7,
     "metadata": {},
     "output_type": "execute_result"
    }
   ],
   "source": [
    "dict(list(word_index.items())[0:10])"
   ]
  },
  {
   "cell_type": "markdown",
   "metadata": {
    "ExecuteTime": {
     "end_time": "2021-06-18T13:07:57.953584Z",
     "start_time": "2021-06-18T13:07:57.940607Z"
    }
   },
   "source": [
    "##### After tokenization, the next step is to turn thoes tokens into lists of sequence."
   ]
  },
  {
   "cell_type": "code",
   "execution_count": 9,
   "metadata": {
    "ExecuteTime": {
     "end_time": "2021-06-18T13:08:15.845713Z",
     "start_time": "2021-06-18T13:08:15.536318Z"
    }
   },
   "outputs": [],
   "source": [
    "train_sequences = tokenizer.texts_to_sequences(train_articles)"
   ]
  },
  {
   "cell_type": "code",
   "execution_count": 10,
   "metadata": {
    "ExecuteTime": {
     "end_time": "2021-06-18T13:08:33.078954Z",
     "start_time": "2021-06-18T13:08:33.075959Z"
    }
   },
   "outputs": [
    {
     "name": "stdout",
     "output_type": "stream",
     "text": [
      "[2431, 1, 225, 4995, 22, 642, 587, 225, 4995, 1, 1, 1662, 1, 1, 2431, 22, 565, 1, 1, 140, 278, 1, 140, 278, 796, 822, 662, 2307, 1, 1144, 1693, 1, 1720, 4996, 1, 1, 1, 1, 1, 4738, 1, 1, 122, 4515, 1, 2, 2874, 1504, 352, 4739, 1, 52, 341, 1, 352, 2171, 3961, 41, 22, 3795, 1, 1, 1, 1, 543, 1, 1, 1, 835, 631, 2366, 347, 4740, 1, 365, 22, 1, 787, 2367, 1, 4302, 138, 10, 1, 3665, 682, 3532, 1, 22, 1, 414, 822, 662, 1, 90, 13, 633, 1, 225, 4995, 1, 600, 1, 1693, 1021, 1, 4997, 807, 1863, 117, 1, 1, 1, 2974, 22, 1, 99, 278, 1, 1605, 4998, 543, 493, 1, 1442, 4741, 778, 1320, 1, 1860, 10, 33, 642, 319, 1, 62, 478, 565, 301, 1505, 22, 479, 1, 1, 1665, 1, 797, 1, 3066, 1, 1364, 6, 1, 2431, 565, 22, 2971, 4735, 1, 1, 1, 1, 1, 850, 39, 1824, 675, 297, 26, 979, 1, 882, 22, 361, 22, 13, 301, 1505, 1342, 374, 20, 63, 883, 1096, 4303, 247]\n"
     ]
    }
   ],
   "source": [
    "print(train_sequences[10])"
   ]
  },
  {
   "cell_type": "markdown",
   "metadata": {},
   "source": [
    "#### When we train neural networks for NLP, we need sequences to be in the same size, that's why we use padding. Our max_length is 200, so we use pad_sequences to make all of our articles the same length which is 200 in my example. That's why you see that the 1st article was 426 in length, becomes 200, the 2nd article was 192 in length, becomes 200, and so on."
   ]
  },
  {
   "cell_type": "code",
   "execution_count": 11,
   "metadata": {
    "ExecuteTime": {
     "end_time": "2021-06-18T13:09:29.710940Z",
     "start_time": "2021-06-18T13:09:29.673972Z"
    }
   },
   "outputs": [],
   "source": [
    "train_padded = pad_sequences(train_sequences, maxlen=max_length, padding=padding_type, truncating=trunc_type)"
   ]
  },
  {
   "cell_type": "code",
   "execution_count": 12,
   "metadata": {
    "ExecuteTime": {
     "end_time": "2021-06-18T13:09:38.636885Z",
     "start_time": "2021-06-18T13:09:38.628869Z"
    }
   },
   "outputs": [
    {
     "name": "stdout",
     "output_type": "stream",
     "text": [
      "425\n",
      "200\n",
      "192\n",
      "200\n",
      "186\n",
      "200\n"
     ]
    }
   ],
   "source": [
    "print(len(train_sequences[0]))\n",
    "print(len(train_padded[0]))\n",
    "\n",
    "print(len(train_sequences[1]))\n",
    "print(len(train_padded[1]))\n",
    "\n",
    "print(len(train_sequences[10]))\n",
    "print(len(train_padded[10]))"
   ]
  },
  {
   "cell_type": "markdown",
   "metadata": {},
   "source": [
    "##### In addtion, there is padding type and truncating type, there are all \"post\". Means for example, for the 11th article, it was 186 in length, we padded to 200, and we padded at the end, add 14 zeros."
   ]
  },
  {
   "cell_type": "code",
   "execution_count": 13,
   "metadata": {
    "ExecuteTime": {
     "end_time": "2021-06-18T13:10:28.218382Z",
     "start_time": "2021-06-18T13:10:28.203422Z"
    }
   },
   "outputs": [
    {
     "name": "stdout",
     "output_type": "stream",
     "text": [
      "[2431, 1, 225, 4995, 22, 642, 587, 225, 4995, 1, 1, 1662, 1, 1, 2431, 22, 565, 1, 1, 140, 278, 1, 140, 278, 796, 822, 662, 2307, 1, 1144, 1693, 1, 1720, 4996, 1, 1, 1, 1, 1, 4738, 1, 1, 122, 4515, 1, 2, 2874, 1504, 352, 4739, 1, 52, 341, 1, 352, 2171, 3961, 41, 22, 3795, 1, 1, 1, 1, 543, 1, 1, 1, 835, 631, 2366, 347, 4740, 1, 365, 22, 1, 787, 2367, 1, 4302, 138, 10, 1, 3665, 682, 3532, 1, 22, 1, 414, 822, 662, 1, 90, 13, 633, 1, 225, 4995, 1, 600, 1, 1693, 1021, 1, 4997, 807, 1863, 117, 1, 1, 1, 2974, 22, 1, 99, 278, 1, 1605, 4998, 543, 493, 1, 1442, 4741, 778, 1320, 1, 1860, 10, 33, 642, 319, 1, 62, 478, 565, 301, 1505, 22, 479, 1, 1, 1665, 1, 797, 1, 3066, 1, 1364, 6, 1, 2431, 565, 22, 2971, 4735, 1, 1, 1, 1, 1, 850, 39, 1824, 675, 297, 26, 979, 1, 882, 22, 361, 22, 13, 301, 1505, 1342, 374, 20, 63, 883, 1096, 4303, 247]\n"
     ]
    }
   ],
   "source": [
    "print(train_sequences[10])"
   ]
  },
  {
   "cell_type": "code",
   "execution_count": 14,
   "metadata": {
    "ExecuteTime": {
     "end_time": "2021-06-18T13:10:44.115774Z",
     "start_time": "2021-06-18T13:10:44.106799Z"
    }
   },
   "outputs": [
    {
     "name": "stdout",
     "output_type": "stream",
     "text": [
      "[2431    1  225 4995   22  642  587  225 4995    1    1 1662    1    1\n",
      " 2431   22  565    1    1  140  278    1  140  278  796  822  662 2307\n",
      "    1 1144 1693    1 1720 4996    1    1    1    1    1 4738    1    1\n",
      "  122 4515    1    2 2874 1504  352 4739    1   52  341    1  352 2171\n",
      " 3961   41   22 3795    1    1    1    1  543    1    1    1  835  631\n",
      " 2366  347 4740    1  365   22    1  787 2367    1 4302  138   10    1\n",
      " 3665  682 3532    1   22    1  414  822  662    1   90   13  633    1\n",
      "  225 4995    1  600    1 1693 1021    1 4997  807 1863  117    1    1\n",
      "    1 2974   22    1   99  278    1 1605 4998  543  493    1 1442 4741\n",
      "  778 1320    1 1860   10   33  642  319    1   62  478  565  301 1505\n",
      "   22  479    1    1 1665    1  797    1 3066    1 1364    6    1 2431\n",
      "  565   22 2971 4735    1    1    1    1    1  850   39 1824  675  297\n",
      "   26  979    1  882   22  361   22   13  301 1505 1342  374   20   63\n",
      "  883 1096 4303  247    0    0    0    0    0    0    0    0    0    0\n",
      "    0    0    0    0]\n"
     ]
    }
   ],
   "source": [
    "print(train_padded[10])"
   ]
  },
  {
   "cell_type": "markdown",
   "metadata": {},
   "source": [
    "#### And for the 1st article, it was 426 in length, we truncated to 200, and we truncated at the end."
   ]
  },
  {
   "cell_type": "code",
   "execution_count": 15,
   "metadata": {
    "ExecuteTime": {
     "end_time": "2021-06-18T13:11:30.138364Z",
     "start_time": "2021-06-18T13:11:30.129353Z"
    }
   },
   "outputs": [
    {
     "name": "stdout",
     "output_type": "stream",
     "text": [
      "[91, 160, 1141, 1106, 49, 979, 755, 1, 89, 1303, 4289, 129, 175, 3653, 1213, 1194, 1575, 42, 7, 893, 91, 1, 334, 85, 20, 14, 130, 3261, 1214, 2421, 570, 451, 1375, 58, 3378, 3522, 1660, 8, 921, 730, 10, 844, 1, 9, 598, 1576, 1107, 395, 1940, 1106, 731, 49, 538, 1397, 2011, 1621, 134, 249, 113, 2355, 795, 4980, 980, 584, 10, 3956, 3957, 921, 2562, 129, 344, 175, 3653, 1, 1, 39, 62, 2867, 28, 9, 4723, 18, 1304, 136, 416, 7, 143, 1422, 71, 4502, 436, 4981, 91, 1107, 77, 1, 82, 2012, 53, 1, 91, 6, 1008, 599, 89, 1303, 91, 1964, 131, 137, 420, 9, 2868, 38, 152, 1234, 89, 1303, 4724, 7, 436, 4981, 3153, 6, 2492, 1, 431, 1126, 1, 1423, 571, 1215, 1902, 1, 766, 9, 538, 1397, 2011, 134, 2068, 400, 845, 1965, 1598, 34, 1716, 2869, 1, 1, 2422, 244, 9, 2624, 82, 732, 6, 1172, 1195, 152, 720, 591, 1, 124, 28, 1304, 1689, 432, 83, 933, 115, 20, 14, 18, 3154, 1, 37, 1483, 1, 23, 37, 87, 335, 2356, 37, 467, 255, 1965, 1358, 328, 1, 299, 732, 1173, 18, 2870, 1716, 1, 294, 756, 1074, 395, 2013, 387, 431, 2013, 2, 1359, 1, 1716, 2165, 67, 1, 1, 1717, 249, 1661, 3059, 1174, 395, 41, 878, 246, 2793, 345, 53, 548, 400, 2, 1, 1, 655, 1360, 202, 91, 3958, 91, 90, 42, 7, 320, 395, 77, 893, 1, 91, 1106, 400, 538, 9, 845, 2422, 11, 38, 1, 995, 514, 484, 2069, 160, 572, 1, 128, 7, 320, 77, 893, 1216, 1126, 1462, 346, 54, 2213, 1217, 741, 92, 256, 274, 1019, 71, 623, 346, 2423, 756, 1214, 2357, 1718, 1, 3784, 3523, 1, 1126, 2013, 177, 371, 1398, 77, 53, 548, 105, 1141, 3, 1, 1047, 93, 2962, 1, 2625, 1, 102, 902, 440, 452, 2, 3, 1, 2871, 451, 1424, 43, 77, 429, 31, 8, 1019, 921, 1, 2562, 30, 1, 91, 1690, 879, 89, 1303, 91, 1964, 1, 30, 8, 1622, 1, 1, 4290, 1577, 4289, 656, 1, 3785, 1008, 572, 4291, 2867, 10, 880, 656, 58, 1, 1261, 1, 1, 91, 1552, 934, 4723, 1, 577, 4106, 10, 9, 235, 2011, 91, 134, 1, 95, 656, 3262, 1, 58, 520, 673, 2626, 3785, 4982, 3379, 484, 4725, 39, 4502, 1, 91, 1747, 673, 269, 116, 239, 2627, 354, 644, 58, 4107, 757, 3654, 4723, 146, 1, 400, 7, 71, 1748, 1107, 767, 910, 118, 584, 3380, 1316, 1576, 1, 1599, 7, 893, 77, 77]\n"
     ]
    }
   ],
   "source": [
    "print(train_sequences[0])"
   ]
  },
  {
   "cell_type": "code",
   "execution_count": 16,
   "metadata": {
    "ExecuteTime": {
     "end_time": "2021-06-18T13:11:43.805915Z",
     "start_time": "2021-06-18T13:11:43.795910Z"
    }
   },
   "outputs": [
    {
     "name": "stdout",
     "output_type": "stream",
     "text": [
      "[  91  160 1141 1106   49  979  755    1   89 1303 4289  129  175 3653\n",
      " 1213 1194 1575   42    7  893   91    1  334   85   20   14  130 3261\n",
      " 1214 2421  570  451 1375   58 3378 3522 1660    8  921  730   10  844\n",
      "    1    9  598 1576 1107  395 1940 1106  731   49  538 1397 2011 1621\n",
      "  134  249  113 2355  795 4980  980  584   10 3956 3957  921 2562  129\n",
      "  344  175 3653    1    1   39   62 2867   28    9 4723   18 1304  136\n",
      "  416    7  143 1422   71 4502  436 4981   91 1107   77    1   82 2012\n",
      "   53    1   91    6 1008  599   89 1303   91 1964  131  137  420    9\n",
      " 2868   38  152 1234   89 1303 4724    7  436 4981 3153    6 2492    1\n",
      "  431 1126    1 1423  571 1215 1902    1  766    9  538 1397 2011  134\n",
      " 2068  400  845 1965 1598   34 1716 2869    1    1 2422  244    9 2624\n",
      "   82  732    6 1172 1195  152  720  591    1  124   28 1304 1689  432\n",
      "   83  933  115   20   14   18 3154    1   37 1483    1   23   37   87\n",
      "  335 2356   37  467  255 1965 1358  328    1  299  732 1173   18 2870\n",
      " 1716    1  294  756]\n"
     ]
    }
   ],
   "source": [
    "print(train_padded[0])"
   ]
  },
  {
   "cell_type": "markdown",
   "metadata": {},
   "source": [
    "#### Then we do the same for the validation sequences. Note that we should expect more out of vocabulary words from validation articles because word index were derived from the training articles."
   ]
  },
  {
   "cell_type": "code",
   "execution_count": 17,
   "metadata": {
    "ExecuteTime": {
     "end_time": "2021-06-18T13:12:23.516476Z",
     "start_time": "2021-06-18T13:12:23.431694Z"
    }
   },
   "outputs": [
    {
     "name": "stdout",
     "output_type": "stream",
     "text": [
      "445\n",
      "(445, 200)\n"
     ]
    }
   ],
   "source": [
    "validation_sequences = tokenizer.texts_to_sequences(validation_articles)\n",
    "validation_padded = pad_sequences(validation_sequences, maxlen=max_length, padding=padding_type, truncating=trunc_type)\n",
    "\n",
    "print(len(validation_sequences))\n",
    "print(validation_padded.shape)"
   ]
  },
  {
   "cell_type": "markdown",
   "metadata": {},
   "source": [
    "#### Now we are going to look at the labels. because our labels are text, so we will tokenize them, when training, labels are expected to be numpy arrays. So we will turn list of labels into numpy arrays like so:"
   ]
  },
  {
   "cell_type": "code",
   "execution_count": 18,
   "metadata": {
    "ExecuteTime": {
     "end_time": "2021-06-18T13:13:16.126406Z",
     "start_time": "2021-06-18T13:13:16.113442Z"
    }
   },
   "outputs": [
    {
     "name": "stdout",
     "output_type": "stream",
     "text": [
      "{'sport', 'tech', 'politics', 'business', 'entertainment'}\n"
     ]
    }
   ],
   "source": [
    "print(set(labels))"
   ]
  },
  {
   "cell_type": "code",
   "execution_count": 19,
   "metadata": {
    "ExecuteTime": {
     "end_time": "2021-06-18T13:13:27.226645Z",
     "start_time": "2021-06-18T13:13:27.181746Z"
    }
   },
   "outputs": [],
   "source": [
    "label_tokenizer = Tokenizer()\n",
    "label_tokenizer.fit_on_texts(labels)\n",
    "\n",
    "training_label_seq = np.array(label_tokenizer.texts_to_sequences(train_labels))\n",
    "validation_label_seq = np.array(label_tokenizer.texts_to_sequences(validation_labels))"
   ]
  },
  {
   "cell_type": "markdown",
   "metadata": {
    "ExecuteTime": {
     "end_time": "2021-06-18T13:13:39.150665Z",
     "start_time": "2021-06-18T13:13:39.135673Z"
    }
   },
   "source": [
    "print(training_label_seq[0])\n",
    "print(training_label_seq[1])\n",
    "print(training_label_seq[2])\n",
    "print(training_label_seq.shape)\n",
    "\n",
    "print(validation_label_seq[0])\n",
    "print(validation_label_seq[1])\n",
    "print(validation_label_seq[2])\n",
    "print(validation_label_seq.shape)"
   ]
  },
  {
   "cell_type": "markdown",
   "metadata": {
    "ExecuteTime": {
     "end_time": "2021-06-18T13:14:05.839094Z",
     "start_time": "2021-06-18T13:14:05.836102Z"
    }
   },
   "source": [
    "#### Before training deep neural network, we want to explore what our original article and article after padding look like. Running the following code, we explore the 11th article, we can see that some words become \"OOV\", because they did not make to the top 5,000."
   ]
  },
  {
   "cell_type": "code",
   "execution_count": 22,
   "metadata": {
    "ExecuteTime": {
     "end_time": "2021-06-18T13:14:41.636434Z",
     "start_time": "2021-06-18T13:14:41.622461Z"
    }
   },
   "outputs": [
    {
     "name": "stdout",
     "output_type": "stream",
     "text": [
      "berlin <OOV> anti nazi film german movie anti nazi <OOV> <OOV> drawn <OOV> <OOV> berlin film festival <OOV> <OOV> final days <OOV> final days member white rose movement <OOV> 21 arrested <OOV> brother hans <OOV> <OOV> <OOV> <OOV> <OOV> tyranny <OOV> <OOV> director marc <OOV> said feeling responsibility keep legacy <OOV> going must <OOV> keep ideas alive added film drew <OOV> <OOV> <OOV> <OOV> trial <OOV> <OOV> <OOV> east germany secret police discovery <OOV> behind film <OOV> worked closely <OOV> relatives including one <OOV> sisters ensure historical <OOV> film <OOV> members white rose <OOV> group first started <OOV> anti nazi <OOV> summer <OOV> arrested dropped <OOV> munich university calling day <OOV> <OOV> <OOV> regime film <OOV> six days <OOV> arrest intense trial saw <OOV> initially deny charges ended <OOV> appearance one three german films <OOV> top prize festival south african film version <OOV> <OOV> opera <OOV> shot <OOV> town <OOV> language also <OOV> berlin festival film entitled u <OOV> <OOV> <OOV> <OOV> <OOV> story set performed 40 strong music theatre <OOV> debut film performance film first south african feature 25 years second nominated golden bear award ? ? ? ? ? ? ? ? ? ? ? ? ? ?\n",
      "---\n",
      "berlin cheers anti-nazi film german movie anti-nazi resistance heroine drawn loud applause berlin film festival.  sophie scholl - final days portrays final days member white rose movement. scholl  21  arrested beheaded brother  hans  1943 distributing leaflets condemning  abhorrent tyranny  adolf hitler. director marc rothemund said:  feeling responsibility keep legacy scholls going.   must somehow keep ideas alive   added.  film drew transcripts gestapo interrogations scholl trial preserved archive communist east germany secret police. discovery inspiration behind film rothemund  worked closely surviving relatives  including one scholl sisters  ensure historical accuracy film. scholl members white rose resistance group first started distributing anti-nazi leaflets summer 1942. arrested dropped leaflets munich university calling  day reckoning  adolf hitler regime. film focuses six days scholl arrest intense trial saw scholl initially deny charges ended defiant appearance. one three german films vying top prize festival.  south african film version bizet tragic opera carmen shot cape town xhosa language also premiered berlin festival. film entitled u-carmen ekhayelitsha carmen khayelitsha township story set. performed 40-strong music theatre troupe debut film performance. film first south african feature 25 years second nominated golden bear award.\n"
     ]
    }
   ],
   "source": [
    "reverse_word_index = dict([(value, key) for (key, value) in word_index.items()])\n",
    "\n",
    "def decode_article(text):\n",
    "    return ' '.join([reverse_word_index.get(i, '?') for i in text])\n",
    "print(decode_article(train_padded[10]))\n",
    "print('---')\n",
    "print(train_articles[10])"
   ]
  },
  {
   "cell_type": "markdown",
   "metadata": {},
   "source": [
    "#### Now we can implement LSTM. Here is my code that I build a tf.keras.Sequential model and start with an embedding layer. An embedding layer stores one vector per word. When called, it converts the sequences of word indices into sequences of vectors. After training, words with similar meanings often have the similar vectors.\n",
    "\n",
    "#### Next is how to implement LSTM in code. The Bidirectional wrapper is used with a LSTM layer, this propagates the input forwards and backwards through the LSTM layer and then concatenates the outputs. This helps LSTM to learn long term dependencies. We then fit it to a dense neural network to do classification.\n",
    "\n",
    "#### This index-lookup is much more efficient than the equivalent operation of passing a one-hot encoded vector through a tf.keras.layers.Dense layer."
   ]
  },
  {
   "cell_type": "code",
   "execution_count": 23,
   "metadata": {
    "ExecuteTime": {
     "end_time": "2021-06-18T13:16:20.756688Z",
     "start_time": "2021-06-18T13:16:20.215890Z"
    }
   },
   "outputs": [
    {
     "name": "stdout",
     "output_type": "stream",
     "text": [
      "Model: \"sequential\"\n",
      "_________________________________________________________________\n",
      "Layer (type)                 Output Shape              Param #   \n",
      "=================================================================\n",
      "embedding (Embedding)        (None, None, 64)          320000    \n",
      "_________________________________________________________________\n",
      "bidirectional (Bidirectional (None, 128)               66048     \n",
      "_________________________________________________________________\n",
      "dense (Dense)                (None, 64)                8256      \n",
      "_________________________________________________________________\n",
      "dense_1 (Dense)              (None, 6)                 390       \n",
      "=================================================================\n",
      "Total params: 394,694\n",
      "Trainable params: 394,694\n",
      "Non-trainable params: 0\n",
      "_________________________________________________________________\n"
     ]
    }
   ],
   "source": [
    "model = tf.keras.Sequential([\n",
    "    # Add an Embedding layer expecting input vocab of size 5000, and output embedding dimension of size 64 we set at the top\n",
    "    tf.keras.layers.Embedding(vocab_size, embedding_dim),\n",
    "    tf.keras.layers.Bidirectional(tf.keras.layers.LSTM(embedding_dim)),\n",
    "#    tf.keras.layers.Bidirectional(tf.keras.layers.LSTM(32)),\n",
    "    # use ReLU in place of tanh function since they are very good alternatives of each other.\n",
    "    tf.keras.layers.Dense(embedding_dim, activation='relu'),\n",
    "    # Add a Dense layer with 6 units and softmax activation.\n",
    "    # When we have multiple outputs, softmax convert outputs layers into a probability distribution.\n",
    "    tf.keras.layers.Dense(6, activation='softmax')\n",
    "])\n",
    "model.summary()"
   ]
  },
  {
   "cell_type": "code",
   "execution_count": 24,
   "metadata": {
    "ExecuteTime": {
     "end_time": "2021-06-18T13:16:35.821154Z",
     "start_time": "2021-06-18T13:16:35.807194Z"
    }
   },
   "outputs": [],
   "source": [
    "model.compile(loss='sparse_categorical_crossentropy', optimizer='adam', metrics=['accuracy'])"
   ]
  },
  {
   "cell_type": "code",
   "execution_count": 25,
   "metadata": {
    "ExecuteTime": {
     "end_time": "2021-06-18T13:17:42.236917Z",
     "start_time": "2021-06-18T13:16:46.074270Z"
    }
   },
   "outputs": [
    {
     "name": "stdout",
     "output_type": "stream",
     "text": [
      "Epoch 1/10\n",
      "56/56 - 6s - loss: 1.5858 - accuracy: 0.2904 - val_loss: 1.3641 - val_accuracy: 0.3618\n",
      "Epoch 2/10\n",
      "56/56 - 5s - loss: 0.8901 - accuracy: 0.6989 - val_loss: 0.6881 - val_accuracy: 0.7978\n",
      "Epoch 3/10\n",
      "56/56 - 5s - loss: 0.4539 - accuracy: 0.8669 - val_loss: 0.4609 - val_accuracy: 0.8517\n",
      "Epoch 4/10\n",
      "56/56 - 5s - loss: 0.2385 - accuracy: 0.9236 - val_loss: 0.4093 - val_accuracy: 0.8539\n",
      "Epoch 5/10\n",
      "56/56 - 5s - loss: 0.1063 - accuracy: 0.9702 - val_loss: 0.3232 - val_accuracy: 0.9124\n",
      "Epoch 6/10\n",
      "56/56 - 5s - loss: 0.0398 - accuracy: 0.9904 - val_loss: 0.3878 - val_accuracy: 0.8831\n",
      "Epoch 7/10\n",
      "56/56 - 5s - loss: 0.0390 - accuracy: 0.9860 - val_loss: 0.6261 - val_accuracy: 0.8742\n",
      "Epoch 8/10\n",
      "56/56 - 5s - loss: 0.0254 - accuracy: 0.9938 - val_loss: 0.3186 - val_accuracy: 0.9101\n",
      "Epoch 9/10\n",
      "56/56 - 5s - loss: 0.0066 - accuracy: 0.9989 - val_loss: 0.3293 - val_accuracy: 0.9011\n",
      "Epoch 10/10\n",
      "56/56 - 5s - loss: 0.0030 - accuracy: 1.0000 - val_loss: 0.3003 - val_accuracy: 0.9258\n"
     ]
    }
   ],
   "source": [
    "num_epochs = 10\n",
    "history = model.fit(train_padded, training_label_seq, epochs=num_epochs, validation_data=(validation_padded, validation_label_seq), verbose=2)"
   ]
  },
  {
   "cell_type": "code",
   "execution_count": 28,
   "metadata": {
    "ExecuteTime": {
     "end_time": "2021-06-18T13:18:18.831985Z",
     "start_time": "2021-06-18T13:18:18.601729Z"
    }
   },
   "outputs": [
    {
     "data": {
      "image/png": "[encoded data removed]",
      "text/plain": [
       "<Figure size 432x288 with 1 Axes>"
      ]
     },
     "metadata": {
      "needs_background": "light"
     },
     "output_type": "display_data"
    },
    {
     "data": {
      "image/png": "[encoded data removed]",
      "text/plain": [
       "<Figure size 432x288 with 1 Axes>"
      ]
     },
     "metadata": {
      "needs_background": "light"
     },
     "output_type": "display_data"
    }
   ],
   "source": [
    "def plot_graphs(history, string):\n",
    "  plt.plot(history.history[string])\n",
    "  plt.plot(history.history['val_'+string])\n",
    "  plt.xlabel(\"Epochs\")\n",
    "  plt.ylabel(string)\n",
    "  plt.legend([string, 'val_'+string])\n",
    "  plt.show()\n",
    "  \n",
    "plot_graphs(history, \"accuracy\")\n",
    "plot_graphs(history, \"loss\")"
   ]
  },
  {
   "cell_type": "code",
   "execution_count": 29,
   "metadata": {
    "ExecuteTime": {
     "end_time": "2021-06-18T13:18:24.350499Z",
     "start_time": "2021-06-18T13:18:23.519968Z"
    }
   },
   "outputs": [
    {
     "name": "stdout",
     "output_type": "stream",
     "text": [
      "[[3.0013459e-06 9.9611747e-01 3.6082743e-04 1.3829561e-04 3.1622809e-03\n",
      "  2.1796122e-04]] bussiness\n"
     ]
    }
   ],
   "source": [
    "txt = [\"A WeWork shareholder has taken the company to court over the near-$1.7bn (£1.3bn) leaving package approved for ousted co-founder Adam Neumann.\"]\n",
    "seq = tokenizer.texts_to_sequences(txt)\n",
    "padded = pad_sequences(seq, maxlen=max_length)\n",
    "pred = model.predict(padded)\n",
    "labels = ['sport', 'bussiness', 'politics', 'tech', 'entertainment']\n",
    "print(pred, labels[np.argmax(pred)])"
   ]
  },
  {
   "cell_type": "code",
   "execution_count": null,
   "metadata": {},
   "outputs": [],
   "source": []
  }
 ],
 "metadata": {
  "kernelspec": {
   "display_name": "Python 3",
   "language": "python",
   "name": "python3"
  },
  "language_info": {
   "codemirror_mode": {
    "name": "ipython",
    "version": 3
   },
   "file_extension": ".py",
   "mimetype": "text/x-python",
   "name": "python",
   "nbconvert_exporter": "python",
   "pygments_lexer": "ipython3",
   "version": "3.7.9"
  }
 },
 "nbformat": 4,
 "nbformat_minor": 4
}
