{
 "cells": [
  {
   "cell_type": "code",
   "execution_count": 1,
   "id": "4a4ceedd",
   "metadata": {
    "ExecuteTime": {
     "end_time": "2021-06-17T17:00:44.906171Z",
     "start_time": "2021-06-17T17:00:42.519678Z"
    }
   },
   "outputs": [
    {
     "name": "stdout",
     "output_type": "stream",
     "text": [
      "2.3.0\n"
     ]
    }
   ],
   "source": [
    "import tensorflow as tf\n",
    "print(tf.__version__)"
   ]
  },
  {
   "cell_type": "code",
   "execution_count": 15,
   "id": "f8b17e64",
   "metadata": {
    "ExecuteTime": {
     "end_time": "2021-06-17T17:23:01.440047Z",
     "start_time": "2021-06-17T17:23:01.226387Z"
    }
   },
   "outputs": [],
   "source": [
    "import csv\n",
    "import tensorflow as tf\n",
    "import numpy as np\n",
    "from tensorflow.keras.preprocessing.text import Tokenizer\n",
    "from tensorflow.keras.preprocessing.sequence import pad_sequences\n",
    "from nltk.corpus import stopwords\n",
    "STOPWORDS = set(stopwords.words('english'))\n",
    "from matplotlib import pyplot as plt"
   ]
  },
  {
   "cell_type": "code",
   "execution_count": 5,
   "id": "64535d62",
   "metadata": {
    "ExecuteTime": {
     "end_time": "2021-06-17T17:03:12.342032Z",
     "start_time": "2021-06-17T17:03:12.338069Z"
    }
   },
   "outputs": [],
   "source": [
    "## Defining Parameter for Models\n",
    "vocab_size = 5000\n",
    "embedding_dim = 64\n",
    "max_length = 200\n",
    "trunc_type = 'post'\n",
    "padding_type = 'post'\n",
    "oov_tok = '<OOV>'\n",
    "training_portion = .8"
   ]
  },
  {
   "cell_type": "code",
   "execution_count": 3,
   "id": "d168398f",
   "metadata": {
    "ExecuteTime": {
     "end_time": "2021-06-17T17:02:13.971349Z",
     "start_time": "2021-06-17T17:02:12.748960Z"
    }
   },
   "outputs": [
    {
     "name": "stdout",
     "output_type": "stream",
     "text": [
      "2225\n",
      "2225\n"
     ]
    }
   ],
   "source": [
    "articles = []\n",
    "labels = []\n",
    "\n",
    "with open(\"bbc-text.csv\", 'r') as csvfile:\n",
    "    reader = csv.reader(csvfile, delimiter=',')\n",
    "    next(reader)\n",
    "    for row in reader:\n",
    "        labels.append(row[0])\n",
    "        article = row[1]\n",
    "        for word in STOPWORDS:\n",
    "            token = ' ' + word + ' '\n",
    "            article = article.replace(token, ' ')\n",
    "            article = article.replace(' ', ' ')\n",
    "        articles.append(article)\n",
    "print(len(labels))\n",
    "print(len(articles))"
   ]
  },
  {
   "cell_type": "code",
   "execution_count": 6,
   "id": "ae5c5e28",
   "metadata": {
    "ExecuteTime": {
     "end_time": "2021-06-17T17:03:44.923291Z",
     "start_time": "2021-06-17T17:03:44.918306Z"
    }
   },
   "outputs": [
    {
     "name": "stdout",
     "output_type": "stream",
     "text": [
      "1780\n",
      "1780\n",
      "1780\n",
      "445\n",
      "445\n"
     ]
    }
   ],
   "source": [
    "train_size = int(len(articles) * training_portion)\n",
    "\n",
    "train_articles = articles[0: train_size]\n",
    "train_labels = labels[0: train_size]\n",
    "\n",
    "validation_articles = articles[train_size:]\n",
    "validation_labels = labels[train_size:]\n",
    "\n",
    "print(train_size)\n",
    "print(len(train_articles))\n",
    "print(len(train_labels))\n",
    "print(len(validation_articles))\n",
    "print(len(validation_labels))"
   ]
  },
  {
   "cell_type": "code",
   "execution_count": 7,
   "id": "57828e5a",
   "metadata": {
    "ExecuteTime": {
     "end_time": "2021-06-17T17:04:29.940388Z",
     "start_time": "2021-06-17T17:04:29.437580Z"
    }
   },
   "outputs": [
    {
     "name": "stdout",
     "output_type": "stream",
     "text": [
      "425\n",
      "200\n",
      "192\n",
      "200\n",
      "186\n",
      "200\n"
     ]
    }
   ],
   "source": [
    "tokenizer = Tokenizer(num_words = vocab_size, oov_token=oov_tok)\n",
    "tokenizer.fit_on_texts(train_articles)\n",
    "word_index = tokenizer.word_index\n",
    "\n",
    "train_sequences = tokenizer.texts_to_sequences(train_articles)\n",
    "train_padded = pad_sequences(train_sequences, maxlen=max_length, padding=padding_type, truncating=trunc_type)\n",
    "\n",
    "print(len(train_sequences[0]))\n",
    "print(len(train_padded[0]))\n",
    "\n",
    "print(len(train_sequences[1]))\n",
    "print(len(train_padded[1]))\n",
    "\n",
    "print(len(train_sequences[10]))\n",
    "print(len(train_padded[10]))"
   ]
  },
  {
   "cell_type": "code",
   "execution_count": 8,
   "id": "46288039",
   "metadata": {
    "ExecuteTime": {
     "end_time": "2021-06-17T17:05:00.970924Z",
     "start_time": "2021-06-17T17:05:00.894592Z"
    }
   },
   "outputs": [
    {
     "name": "stdout",
     "output_type": "stream",
     "text": [
      "445\n",
      "(445, 200)\n"
     ]
    }
   ],
   "source": [
    "validation_sequences = tokenizer.texts_to_sequences(validation_articles)\n",
    "validation_padded = pad_sequences(validation_sequences, maxlen=max_length, padding=padding_type, truncating=trunc_type)\n",
    "\n",
    "print(len(validation_sequences))\n",
    "print(validation_padded.shape)\n"
   ]
  },
  {
   "cell_type": "code",
   "execution_count": 9,
   "id": "3cb9e4eb",
   "metadata": {
    "ExecuteTime": {
     "end_time": "2021-06-17T17:05:18.840160Z",
     "start_time": "2021-06-17T17:05:18.808606Z"
    }
   },
   "outputs": [],
   "source": [
    "label_tokenizer = Tokenizer()\n",
    "label_tokenizer.fit_on_texts(labels)\n",
    "\n",
    "training_label_seq = np.array(label_tokenizer.texts_to_sequences(train_labels))\n",
    "validation_label_seq = np.array(label_tokenizer.texts_to_sequences(validation_labels))"
   ]
  },
  {
   "cell_type": "markdown",
   "id": "756d6fcc",
   "metadata": {},
   "source": [
    "## Adding CNN architecture"
   ]
  },
  {
   "cell_type": "code",
   "execution_count": 10,
   "id": "82aa00a5",
   "metadata": {
    "ExecuteTime": {
     "end_time": "2021-06-17T17:06:18.217203Z",
     "start_time": "2021-06-17T17:06:18.095618Z"
    }
   },
   "outputs": [
    {
     "name": "stdout",
     "output_type": "stream",
     "text": [
      "Model: \"sequential\"\n",
      "_________________________________________________________________\n",
      "Layer (type)                 Output Shape              Param #   \n",
      "=================================================================\n",
      "embedding (Embedding)        (None, 200, 64)           320000    \n",
      "_________________________________________________________________\n",
      "conv1d (Conv1D)              (None, 196, 128)          41088     \n",
      "_________________________________________________________________\n",
      "global_average_pooling1d (Gl (None, 128)               0         \n",
      "_________________________________________________________________\n",
      "dense (Dense)                (None, 64)                8256      \n",
      "_________________________________________________________________\n",
      "dense_1 (Dense)              (None, 6)                 390       \n",
      "=================================================================\n",
      "Total params: 369,734\n",
      "Trainable params: 369,734\n",
      "Non-trainable params: 0\n",
      "_________________________________________________________________\n"
     ]
    }
   ],
   "source": [
    "model = tf.keras.Sequential([\n",
    "    tf.keras.layers.Embedding(vocab_size, embedding_dim,\n",
    "                             input_length=max_length),\n",
    "    # specify the number of convolutions that you want to learn, their size, and their activation function.\n",
    "    # words will be grouped into the size of the filter in this case 5\n",
    "    tf.keras.layers.Conv1D(128, 5, activation='relu'),\n",
    "    tf.keras.layers.GlobalAveragePooling1D(),\n",
    "    tf.keras.layers.Dense(64, activation='relu'),\n",
    "    tf.keras.layers.Dense(6, activation='softmax')\n",
    "])\n",
    "model.summary()"
   ]
  },
  {
   "cell_type": "markdown",
   "id": "26a7b840",
   "metadata": {},
   "source": [
    "#### When we look at the summary of the model, the size of the input was 200 words, and a filter that is 5 words long will shave off 2 words from the front and back, leaving us with 196. The 128 filters that we specified will show up here as part of the convolutional layer."
   ]
  },
  {
   "cell_type": "code",
   "execution_count": 12,
   "id": "b889e2d4",
   "metadata": {
    "ExecuteTime": {
     "end_time": "2021-06-17T17:20:06.053153Z",
     "start_time": "2021-06-17T17:20:06.038188Z"
    }
   },
   "outputs": [],
   "source": [
    "model.compile(loss='sparse_categorical_crossentropy', optimizer='adam', metrics=['accuracy'])\n",
    "\n",
    "##Use sparse categorical crossentropy when your classes are mutually exclusive (e.g. when each sample belongs exactly to one class) \n",
    "##and categorical crossentropy when one sample can have multiple classes or labels are soft probabilities (like [0.5, 0.3, 0.2])."
   ]
  },
  {
   "cell_type": "code",
   "execution_count": 13,
   "id": "dee05c75",
   "metadata": {
    "ExecuteTime": {
     "end_time": "2021-06-17T17:21:03.355394Z",
     "start_time": "2021-06-17T17:20:42.321855Z"
    }
   },
   "outputs": [
    {
     "name": "stdout",
     "output_type": "stream",
     "text": [
      "Epoch 1/20\n",
      "56/56 - 1s - loss: 1.5330 - accuracy: 0.3916 - val_loss: 1.1305 - val_accuracy: 0.6449\n",
      "Epoch 2/20\n",
      "56/56 - 1s - loss: 0.6109 - accuracy: 0.8837 - val_loss: 0.2796 - val_accuracy: 0.9326\n",
      "Epoch 3/20\n",
      "56/56 - 1s - loss: 0.1013 - accuracy: 0.9815 - val_loss: 0.1375 - val_accuracy: 0.9573\n",
      "Epoch 4/20\n",
      "56/56 - 1s - loss: 0.0292 - accuracy: 0.9983 - val_loss: 0.1225 - val_accuracy: 0.9618\n",
      "Epoch 5/20\n",
      "56/56 - 1s - loss: 0.0114 - accuracy: 1.0000 - val_loss: 0.1015 - val_accuracy: 0.9685\n",
      "Epoch 6/20\n",
      "56/56 - 1s - loss: 0.0061 - accuracy: 1.0000 - val_loss: 0.0939 - val_accuracy: 0.9753\n",
      "Epoch 7/20\n",
      "56/56 - 1s - loss: 0.0038 - accuracy: 1.0000 - val_loss: 0.0988 - val_accuracy: 0.9685\n",
      "Epoch 8/20\n",
      "56/56 - 1s - loss: 0.0027 - accuracy: 1.0000 - val_loss: 0.0921 - val_accuracy: 0.9753\n",
      "Epoch 9/20\n",
      "56/56 - 1s - loss: 0.0020 - accuracy: 1.0000 - val_loss: 0.0930 - val_accuracy: 0.9753\n",
      "Epoch 10/20\n",
      "56/56 - 1s - loss: 0.0016 - accuracy: 1.0000 - val_loss: 0.0918 - val_accuracy: 0.9730\n",
      "Epoch 11/20\n",
      "56/56 - 1s - loss: 0.0013 - accuracy: 1.0000 - val_loss: 0.0908 - val_accuracy: 0.9730\n",
      "Epoch 12/20\n",
      "56/56 - 1s - loss: 0.0010 - accuracy: 1.0000 - val_loss: 0.0906 - val_accuracy: 0.9730\n",
      "Epoch 13/20\n",
      "56/56 - 1s - loss: 8.5546e-04 - accuracy: 1.0000 - val_loss: 0.0908 - val_accuracy: 0.9730\n",
      "Epoch 14/20\n",
      "56/56 - 1s - loss: 7.2723e-04 - accuracy: 1.0000 - val_loss: 0.0902 - val_accuracy: 0.9730\n",
      "Epoch 15/20\n",
      "56/56 - 1s - loss: 6.2225e-04 - accuracy: 1.0000 - val_loss: 0.0913 - val_accuracy: 0.9730\n",
      "Epoch 16/20\n",
      "56/56 - 1s - loss: 5.3712e-04 - accuracy: 1.0000 - val_loss: 0.0917 - val_accuracy: 0.9753\n",
      "Epoch 17/20\n",
      "56/56 - 1s - loss: 4.6867e-04 - accuracy: 1.0000 - val_loss: 0.0911 - val_accuracy: 0.9730\n",
      "Epoch 18/20\n",
      "56/56 - 1s - loss: 4.1317e-04 - accuracy: 1.0000 - val_loss: 0.0919 - val_accuracy: 0.9730\n",
      "Epoch 19/20\n",
      "56/56 - 1s - loss: 3.6669e-04 - accuracy: 1.0000 - val_loss: 0.0918 - val_accuracy: 0.9730\n",
      "Epoch 20/20\n",
      "56/56 - 1s - loss: 3.2783e-04 - accuracy: 1.0000 - val_loss: 0.0924 - val_accuracy: 0.9753\n"
     ]
    }
   ],
   "source": [
    "num_epochs = 20\n",
    "history = model.fit(train_padded, training_label_seq, epochs=num_epochs, validation_data=(validation_padded, validation_label_seq), verbose=2)"
   ]
  },
  {
   "cell_type": "code",
   "execution_count": 16,
   "id": "5eb01c58",
   "metadata": {
    "ExecuteTime": {
     "end_time": "2021-06-17T17:23:05.736171Z",
     "start_time": "2021-06-17T17:23:05.496070Z"
    }
   },
   "outputs": [
    {
     "data": {
      "image/png": "[encoded data removed]",
      "text/plain": [
       "<Figure size 432x288 with 1 Axes>"
      ]
     },
     "metadata": {
      "needs_background": "light"
     },
     "output_type": "display_data"
    },
    {
     "data": {
      "image/png": "[encoded data removed]",
      "text/plain": [
       "<Figure size 432x288 with 1 Axes>"
      ]
     },
     "metadata": {
      "needs_background": "light"
     },
     "output_type": "display_data"
    }
   ],
   "source": [
    "def plot_graphs(history, string):\n",
    "    plt.plot(history.history[string])\n",
    "    plt.plot(history.history['val_'+string])\n",
    "    plt.xlabel(\"Epochs\")\n",
    "    plt.ylabel(string)\n",
    "    plt.legend([string, 'val_'+string])\n",
    "    plt.show()\n",
    "    \n",
    "plot_graphs(history, \"accuracy\")\n",
    "plot_graphs(history, \"loss\")"
   ]
  },
  {
   "cell_type": "code",
   "execution_count": 17,
   "id": "1b6c5b3f",
   "metadata": {
    "ExecuteTime": {
     "end_time": "2021-06-17T17:23:49.293689Z",
     "start_time": "2021-06-17T17:23:49.183409Z"
    }
   },
   "outputs": [
    {
     "name": "stdout",
     "output_type": "stream",
     "text": [
      "[[1.5372453e-06 9.3945658e-01 4.0465266e-02 1.8848866e-03 3.3243441e-06\n",
      "  1.8188279e-02]] bussiness\n"
     ]
    }
   ],
   "source": [
    "## Lets Experiment\n",
    "txt = [\"A WeWork shareholder has taken the company to court over the near-$1.7bn (£1.3bn) leaving package approved for ousted co-founder Adam Neumann.\"]\n",
    "seq = tokenizer.texts_to_sequences(txt)\n",
    "padded = pad_sequences(seq, maxlen=max_length)\n",
    "pred = model.predict(padded)\n",
    "labels = ['sport', 'bussiness', 'politics', 'tech', 'entertainment']\n",
    "print(pred, labels[np.argmax(pred)])"
   ]
  },
  {
   "cell_type": "markdown",
   "id": "271799c1",
   "metadata": {},
   "source": [
    "### Further Reading At https://machinelearningmastery.com/best-practices-document-classification-deep-learning/"
   ]
  },
  {
   "cell_type": "code",
   "execution_count": null,
   "id": "6c36f219",
   "metadata": {},
   "outputs": [],
   "source": []
  }
 ],
 "metadata": {
  "kernelspec": {
   "display_name": "Python 3",
   "language": "python",
   "name": "python3"
  },
  "language_info": {
   "codemirror_mode": {
    "name": "ipython",
    "version": 3
   },
   "file_extension": ".py",
   "mimetype": "text/x-python",
   "name": "python",
   "nbconvert_exporter": "python",
   "pygments_lexer": "ipython3",
   "version": "3.7.10"
  }
 },
 "nbformat": 4,
 "nbformat_minor": 5
}
